{
 "cells": [
  {
   "cell_type": "markdown",
   "metadata": {},
   "source": [
    "# Analysis of feedback responses using Pandas\n",
    "The way I have done this seems rather long winded and clunky. Perhaps it can be more MATLAB-like using numpy.\n",
    "\n",
    "## Course rating by faculty"
   ]
  },
  {
   "cell_type": "code",
   "execution_count": 90,
   "metadata": {
    "collapsed": true
   },
   "outputs": [],
   "source": [
    "import pandas as pd\n",
    "import matplotlib.pyplot as plt"
   ]
  },
  {
   "cell_type": "code",
   "execution_count": 91,
   "metadata": {
    "collapsed": true
   },
   "outputs": [],
   "source": [
    "# Load data\n",
    "colHeaders = ['timeStamp','fullName','email','faculty','promo','languages','vcs','softEng','course','rating']\n",
    "colsToLoad = list(range(0,9))\n",
    "colsToLoad.append(13)\n",
    "data = pd.read_csv('../feedback.tsv', delimiter = '\\t', usecols = colsToLoad, names = colHeaders, skiprows = 1)"
   ]
  },
  {
   "cell_type": "code",
   "execution_count": 92,
   "metadata": {
    "collapsed": true
   },
   "outputs": [],
   "source": [
    "# Create categorical columns and rename categories\n",
    "data.faculty = pd.Categorical(data.faculty)\n",
    "data.faculty = data.faculty.cat.rename_categories(['BMH','Hum','PSS','EPS'])\n",
    "data.rating = pd.Categorical(data.rating)\n",
    "data.rating = data.rating.cat.rename_categories([2,3,4,5])"
   ]
  },
  {
   "cell_type": "code",
   "execution_count": 93,
   "metadata": {},
   "outputs": [
    {
     "data": {
      "image/png": "[encoded data removed]",
      "text/plain": [
       "<matplotlib.figure.Figure at 0x7f3e54b8d4e0>"
      ]
     },
     "metadata": {},
     "output_type": "display_data"
    }
   ],
   "source": [
    "# Plot rating by faculty\n",
    "# unstack() gives grouped, coloured bars.\n",
    "# sort_index() sets the order of the x-axis categories\n",
    "# .T gives transpose matrix, so the plot is grouped by rating\n",
    "ax = data.groupby('faculty').rating.value_counts(normalize = True).unstack().T.sort_index().plot(kind = 'bar', rot = 0, title = 'Rating')\n",
    "ax.set_xlabel('Rating (1-5)')\n",
    "ax.set_ylabel('Probability')\n",
    "plt.show()"
   ]
  },
  {
   "cell_type": "markdown",
   "metadata": {},
   "source": [
    "## Version control usage by faculty"
   ]
  },
  {
   "cell_type": "code",
   "execution_count": 94,
   "metadata": {
    "scrolled": false
   },
   "outputs": [],
   "source": [
    "# Split mutliple answers into separate rows\n",
    "import re\n",
    "import itertools\n",
    "vcs = data.copy()\n",
    "# Empty data frame to populate with split answers and merge at the end\n",
    "splitDF = pd.DataFrame(data=None, columns=vcs.columns)\n",
    "dropRows = []\n",
    "\n",
    "for i, row in enumerate(vcs.vcs):\n",
    "    splitRow = re.split('\\s*,\\s*',row)\n",
    "    nAnswers = len(splitRow)\n",
    "    originalRow = list(vcs.iloc[i])\n",
    "        \n",
    "    if nAnswers > 1:\n",
    "        # Append split up responses to data frame.\n",
    "        for answer in splitRow:\n",
    "            dropRows.append(i)\n",
    "            currentRow = len(splitDF)\n",
    "            \n",
    "            # Append original row to dataframe\n",
    "            splitDF.loc[currentRow] = originalRow\n",
    "            \n",
    "            # Replace vcs in current row with each answer in turn\n",
    "            splitDF = splitDF.set_value(currentRow,'vcs', answer)\n",
    "                    \n",
    "# Delete original rows\n",
    "vcs.drop(vcs.index[dropRows], inplace=True)\n",
    "              \n",
    "# Join data frames\n",
    "#new = pd.concat([vcs, splitDF], axis=0, ignore_index=True)\n",
    "new = pd.merge(vcs, splitDF, how='outer')\n",
    "\n",
    "assert(new.shape[0] ==vcs.shape[0] + splitDF.shape[0])"
   ]
  },
  {
   "cell_type": "markdown",
   "metadata": {},
   "source": [
    "## To do:\n",
    "    - Test that all the right lines have been dropped (check against MATLAB code)\n",
    "    - Set 'vcs' column as categorical"
   ]
  },
  {
   "cell_type": "code",
   "execution_count": 95,
   "metadata": {},
   "outputs": [
    {
     "data": {
      "image/png": "[encoded data removed]",
      "text/plain": [
       "<matplotlib.figure.Figure at 0x7f3e52f065c0>"
      ]
     },
     "metadata": {},
     "output_type": "display_data"
    }
   ],
   "source": [
    "# Plot VCS by faculty\n",
    "ax = new.groupby('faculty').vcs.value_counts(normalize = True).unstack().T.sort_index().plot(kind = 'bar', rot = 0, title = 'Version control software')\n",
    "ax.set_xlabel('Software')\n",
    "ax.set_ylabel('Probability')\n",
    "plt.show()"
   ]
  },
  {
   "cell_type": "code",
   "execution_count": 96,
   "metadata": {},
   "outputs": [
    {
     "data": {
      "text/plain": [
       "(250, 10)"
      ]
     },
     "execution_count": 96,
     "metadata": {},
     "output_type": "execute_result"
    }
   ],
   "source": [
    "data.shape"
   ]
  }
 ],
 "metadata": {
  "anaconda-cloud": {},
  "kernelspec": {
   "display_name": "Python 3",
   "language": "python",
   "name": "python3"
  },
  "language_info": {
   "codemirror_mode": {
    "name": "ipython",
    "version": 3
   },
   "file_extension": ".py",
   "mimetype": "text/x-python",
   "name": "python",
   "nbconvert_exporter": "python",
   "pygments_lexer": "ipython3",
   "version": "3.6.3"
  }
 },
 "nbformat": 4,
 "nbformat_minor": 1
}
